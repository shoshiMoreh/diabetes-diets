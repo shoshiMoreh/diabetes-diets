{
 "cells": [
  {
   "cell_type": "code",
   "execution_count": 12,
   "id": "1a68227b-f4af-4f4e-8b3e-79788def2bf0",
   "metadata": {},
   "outputs": [],
   "source": [
    "import pandas as pd\n",
    "import tensorflow as tf\n",
    "from sklearn.model_selection import train_test_split\n",
    "from sklearn.preprocessing import StandardScaler\n",
    "import matplotlib.pyplot as plt\n",
    "%matplotlib inline"
   ]
  },
  {
   "cell_type": "code",
   "execution_count": 13,
   "id": "8fff99de-e130-47db-b0b0-f03dbedffaa3",
   "metadata": {},
   "outputs": [
    {
     "data": {
      "text/plain": [
       "(299, 13)"
      ]
     },
     "execution_count": 13,
     "metadata": {},
     "output_type": "execute_result"
    }
   ],
   "source": [
    "df = pd.read_csv('./data/heart_failure_clinical_records.csv')\n",
    "df.head()\n",
    "df.shape"
   ]
  },
  {
   "cell_type": "code",
   "execution_count": 14,
   "id": "c942bdb9-f1c5-4877-a2cc-5f68e52baad3",
   "metadata": {},
   "outputs": [
    {
     "data": {
      "text/html": [
       "<div>\n",
       "<style scoped>\n",
       "    .dataframe tbody tr th:only-of-type {\n",
       "        vertical-align: middle;\n",
       "    }\n",
       "\n",
       "    .dataframe tbody tr th {\n",
       "        vertical-align: top;\n",
       "    }\n",
       "\n",
       "    .dataframe thead th {\n",
       "        text-align: right;\n",
       "    }\n",
       "</style>\n",
       "<table border=\"1\" class=\"dataframe\">\n",
       "  <thead>\n",
       "    <tr style=\"text-align: right;\">\n",
       "      <th></th>\n",
       "      <th>age</th>\n",
       "      <th>anaemia</th>\n",
       "      <th>creatinine_phosphokinase</th>\n",
       "      <th>diabetes</th>\n",
       "      <th>ejection_fraction</th>\n",
       "      <th>high_blood_pressure</th>\n",
       "      <th>platelets</th>\n",
       "      <th>serum_creatinine</th>\n",
       "      <th>serum_sodium</th>\n",
       "      <th>sex</th>\n",
       "      <th>smoking</th>\n",
       "      <th>time</th>\n",
       "      <th>DEATH_EVENT</th>\n",
       "    </tr>\n",
       "  </thead>\n",
       "  <tbody>\n",
       "    <tr>\n",
       "      <th>count</th>\n",
       "      <td>299.000000</td>\n",
       "      <td>299.000000</td>\n",
       "      <td>299.000000</td>\n",
       "      <td>299.000000</td>\n",
       "      <td>299.000000</td>\n",
       "      <td>299.000000</td>\n",
       "      <td>299.000000</td>\n",
       "      <td>299.00000</td>\n",
       "      <td>299.000000</td>\n",
       "      <td>299.000000</td>\n",
       "      <td>299.00000</td>\n",
       "      <td>299.000000</td>\n",
       "      <td>299.00000</td>\n",
       "    </tr>\n",
       "    <tr>\n",
       "      <th>mean</th>\n",
       "      <td>60.833893</td>\n",
       "      <td>0.431438</td>\n",
       "      <td>581.839465</td>\n",
       "      <td>0.418060</td>\n",
       "      <td>38.083612</td>\n",
       "      <td>0.351171</td>\n",
       "      <td>263358.029264</td>\n",
       "      <td>1.39388</td>\n",
       "      <td>136.625418</td>\n",
       "      <td>0.648829</td>\n",
       "      <td>0.32107</td>\n",
       "      <td>130.260870</td>\n",
       "      <td>0.32107</td>\n",
       "    </tr>\n",
       "    <tr>\n",
       "      <th>std</th>\n",
       "      <td>11.894809</td>\n",
       "      <td>0.496107</td>\n",
       "      <td>970.287881</td>\n",
       "      <td>0.494067</td>\n",
       "      <td>11.834841</td>\n",
       "      <td>0.478136</td>\n",
       "      <td>97804.236869</td>\n",
       "      <td>1.03451</td>\n",
       "      <td>4.412477</td>\n",
       "      <td>0.478136</td>\n",
       "      <td>0.46767</td>\n",
       "      <td>77.614208</td>\n",
       "      <td>0.46767</td>\n",
       "    </tr>\n",
       "    <tr>\n",
       "      <th>min</th>\n",
       "      <td>40.000000</td>\n",
       "      <td>0.000000</td>\n",
       "      <td>23.000000</td>\n",
       "      <td>0.000000</td>\n",
       "      <td>14.000000</td>\n",
       "      <td>0.000000</td>\n",
       "      <td>25100.000000</td>\n",
       "      <td>0.50000</td>\n",
       "      <td>113.000000</td>\n",
       "      <td>0.000000</td>\n",
       "      <td>0.00000</td>\n",
       "      <td>4.000000</td>\n",
       "      <td>0.00000</td>\n",
       "    </tr>\n",
       "    <tr>\n",
       "      <th>25%</th>\n",
       "      <td>51.000000</td>\n",
       "      <td>0.000000</td>\n",
       "      <td>116.500000</td>\n",
       "      <td>0.000000</td>\n",
       "      <td>30.000000</td>\n",
       "      <td>0.000000</td>\n",
       "      <td>212500.000000</td>\n",
       "      <td>0.90000</td>\n",
       "      <td>134.000000</td>\n",
       "      <td>0.000000</td>\n",
       "      <td>0.00000</td>\n",
       "      <td>73.000000</td>\n",
       "      <td>0.00000</td>\n",
       "    </tr>\n",
       "    <tr>\n",
       "      <th>50%</th>\n",
       "      <td>60.000000</td>\n",
       "      <td>0.000000</td>\n",
       "      <td>250.000000</td>\n",
       "      <td>0.000000</td>\n",
       "      <td>38.000000</td>\n",
       "      <td>0.000000</td>\n",
       "      <td>262000.000000</td>\n",
       "      <td>1.10000</td>\n",
       "      <td>137.000000</td>\n",
       "      <td>1.000000</td>\n",
       "      <td>0.00000</td>\n",
       "      <td>115.000000</td>\n",
       "      <td>0.00000</td>\n",
       "    </tr>\n",
       "    <tr>\n",
       "      <th>75%</th>\n",
       "      <td>70.000000</td>\n",
       "      <td>1.000000</td>\n",
       "      <td>582.000000</td>\n",
       "      <td>1.000000</td>\n",
       "      <td>45.000000</td>\n",
       "      <td>1.000000</td>\n",
       "      <td>303500.000000</td>\n",
       "      <td>1.40000</td>\n",
       "      <td>140.000000</td>\n",
       "      <td>1.000000</td>\n",
       "      <td>1.00000</td>\n",
       "      <td>203.000000</td>\n",
       "      <td>1.00000</td>\n",
       "    </tr>\n",
       "    <tr>\n",
       "      <th>max</th>\n",
       "      <td>95.000000</td>\n",
       "      <td>1.000000</td>\n",
       "      <td>7861.000000</td>\n",
       "      <td>1.000000</td>\n",
       "      <td>80.000000</td>\n",
       "      <td>1.000000</td>\n",
       "      <td>850000.000000</td>\n",
       "      <td>9.40000</td>\n",
       "      <td>148.000000</td>\n",
       "      <td>1.000000</td>\n",
       "      <td>1.00000</td>\n",
       "      <td>285.000000</td>\n",
       "      <td>1.00000</td>\n",
       "    </tr>\n",
       "  </tbody>\n",
       "</table>\n",
       "</div>"
      ],
      "text/plain": [
       "              age     anaemia  creatinine_phosphokinase    diabetes  \\\n",
       "count  299.000000  299.000000                299.000000  299.000000   \n",
       "mean    60.833893    0.431438                581.839465    0.418060   \n",
       "std     11.894809    0.496107                970.287881    0.494067   \n",
       "min     40.000000    0.000000                 23.000000    0.000000   \n",
       "25%     51.000000    0.000000                116.500000    0.000000   \n",
       "50%     60.000000    0.000000                250.000000    0.000000   \n",
       "75%     70.000000    1.000000                582.000000    1.000000   \n",
       "max     95.000000    1.000000               7861.000000    1.000000   \n",
       "\n",
       "       ejection_fraction  high_blood_pressure      platelets  \\\n",
       "count         299.000000           299.000000     299.000000   \n",
       "mean           38.083612             0.351171  263358.029264   \n",
       "std            11.834841             0.478136   97804.236869   \n",
       "min            14.000000             0.000000   25100.000000   \n",
       "25%            30.000000             0.000000  212500.000000   \n",
       "50%            38.000000             0.000000  262000.000000   \n",
       "75%            45.000000             1.000000  303500.000000   \n",
       "max            80.000000             1.000000  850000.000000   \n",
       "\n",
       "       serum_creatinine  serum_sodium         sex    smoking        time  \\\n",
       "count         299.00000    299.000000  299.000000  299.00000  299.000000   \n",
       "mean            1.39388    136.625418    0.648829    0.32107  130.260870   \n",
       "std             1.03451      4.412477    0.478136    0.46767   77.614208   \n",
       "min             0.50000    113.000000    0.000000    0.00000    4.000000   \n",
       "25%             0.90000    134.000000    0.000000    0.00000   73.000000   \n",
       "50%             1.10000    137.000000    1.000000    0.00000  115.000000   \n",
       "75%             1.40000    140.000000    1.000000    1.00000  203.000000   \n",
       "max             9.40000    148.000000    1.000000    1.00000  285.000000   \n",
       "\n",
       "       DEATH_EVENT  \n",
       "count    299.00000  \n",
       "mean       0.32107  \n",
       "std        0.46767  \n",
       "min        0.00000  \n",
       "25%        0.00000  \n",
       "50%        0.00000  \n",
       "75%        1.00000  \n",
       "max        1.00000  "
      ]
     },
     "execution_count": 14,
     "metadata": {},
     "output_type": "execute_result"
    }
   ],
   "source": [
    "# df.info()\n",
    "df.describe()"
   ]
  },
  {
   "cell_type": "code",
   "execution_count": 15,
   "id": "d9e39da2-057d-40f8-b5d1-f5ebcf2b487e",
   "metadata": {},
   "outputs": [
    {
     "data": {
      "text/plain": [
       "age                         0\n",
       "anaemia                     0\n",
       "creatinine_phosphokinase    0\n",
       "diabetes                    0\n",
       "ejection_fraction           0\n",
       "high_blood_pressure         0\n",
       "platelets                   0\n",
       "serum_creatinine            0\n",
       "serum_sodium                0\n",
       "sex                         0\n",
       "smoking                     0\n",
       "time                        0\n",
       "DEATH_EVENT                 0\n",
       "dtype: int64"
      ]
     },
     "execution_count": 15,
     "metadata": {},
     "output_type": "execute_result"
    }
   ],
   "source": [
    "df.isnull().sum()"
   ]
  },
  {
   "cell_type": "code",
   "execution_count": 16,
   "id": "7671e87e-08a7-4a30-b463-07ae9665e1eb",
   "metadata": {},
   "outputs": [
    {
     "data": {
      "text/plain": [
       "array([[ 1.19294523e+00, -8.71104775e-01,  1.65728387e-04, ...,\n",
       "         7.35688190e-01, -6.87681906e-01, -1.62950241e+00],\n",
       "       [-4.91279276e-01, -8.71104775e-01,  7.51463953e+00, ...,\n",
       "         7.35688190e-01, -6.87681906e-01, -1.60369074e+00],\n",
       "       [ 3.50832977e-01, -8.71104775e-01, -4.49938761e-01, ...,\n",
       "         7.35688190e-01,  1.45416070e+00, -1.59078490e+00],\n",
       "       ...,\n",
       "       [-1.33339153e+00, -8.71104775e-01,  1.52597865e+00, ...,\n",
       "        -1.35927151e+00, -6.87681906e-01,  1.90669738e+00],\n",
       "       [-1.33339153e+00, -8.71104775e-01,  1.89039811e+00, ...,\n",
       "         7.35688190e-01,  1.45416070e+00,  1.93250906e+00],\n",
       "       [-9.12335403e-01, -8.71104775e-01, -3.98321274e-01, ...,\n",
       "         7.35688190e-01,  1.45416070e+00,  1.99703825e+00]])"
      ]
     },
     "execution_count": 16,
     "metadata": {},
     "output_type": "execute_result"
    }
   ],
   "source": [
    "X_columns = ['age', 'anaemia', 'creatinine_phosphokinase', 'diabetes', 'ejection_fraction', 'high_blood_pressure', 'platelets', 'serum_creatinine', 'sex', 'smoking', 'time']\n",
    "y = df.DEATH_EVENT\n",
    "scaler = StandardScaler()\n",
    "df = scaler.fit_transform(df.loc[:, X_columns])\n",
    "df"
   ]
  },
  {
   "cell_type": "code",
   "execution_count": 17,
   "id": "632f985b-5ff7-425f-bebd-f35376bb7bdf",
   "metadata": {},
   "outputs": [],
   "source": [
    "X_train, X_test, y_train, y_test = train_test_split(df, y.values, test_size=0.2, random_state=42)"
   ]
  },
  {
   "cell_type": "code",
   "execution_count": 18,
   "id": "2fd75b13-6183-4970-9322-746098101601",
   "metadata": {},
   "outputs": [
    {
     "name": "stdout",
     "output_type": "stream",
     "text": [
      "Epoch 1/50\n",
      "8/8 [==============================] - 0s 1ms/step - loss: 0.7618 - accuracy: 0.7029\n",
      "Epoch 2/50\n",
      "8/8 [==============================] - 0s 873us/step - loss: 0.7443 - accuracy: 0.7029\n",
      "Epoch 3/50\n",
      "8/8 [==============================] - 0s 955us/step - loss: 0.7276 - accuracy: 0.7029\n",
      "Epoch 4/50\n",
      "8/8 [==============================] - 0s 2ms/step - loss: 0.7112 - accuracy: 0.7029\n",
      "Epoch 5/50\n",
      "8/8 [==============================] - 0s 1ms/step - loss: 0.6968 - accuracy: 0.7029\n",
      "Epoch 6/50\n",
      "8/8 [==============================] - 0s 879us/step - loss: 0.6839 - accuracy: 0.7029\n",
      "Epoch 7/50\n",
      "8/8 [==============================] - 0s 1ms/step - loss: 0.6710 - accuracy: 0.7029\n",
      "Epoch 8/50\n",
      "8/8 [==============================] - 0s 886us/step - loss: 0.6601 - accuracy: 0.7029\n",
      "Epoch 9/50\n",
      "8/8 [==============================] - 0s 1000us/step - loss: 0.6487 - accuracy: 0.7029\n",
      "Epoch 10/50\n",
      "8/8 [==============================] - 0s 788us/step - loss: 0.6384 - accuracy: 0.7029\n",
      "Epoch 11/50\n",
      "8/8 [==============================] - 0s 999us/step - loss: 0.6288 - accuracy: 0.7029\n",
      "Epoch 12/50\n",
      "8/8 [==============================] - 0s 1ms/step - loss: 0.6185 - accuracy: 0.7029\n",
      "Epoch 13/50\n",
      "8/8 [==============================] - 0s 930us/step - loss: 0.6096 - accuracy: 0.7029\n",
      "Epoch 14/50\n",
      "8/8 [==============================] - 0s 852us/step - loss: 0.6001 - accuracy: 0.7029\n",
      "Epoch 15/50\n",
      "8/8 [==============================] - 0s 857us/step - loss: 0.5915 - accuracy: 0.7029\n",
      "Epoch 16/50\n",
      "8/8 [==============================] - 0s 1000us/step - loss: 0.5834 - accuracy: 0.7029\n",
      "Epoch 17/50\n",
      "8/8 [==============================] - 0s 932us/step - loss: 0.5748 - accuracy: 0.7029\n",
      "Epoch 18/50\n",
      "8/8 [==============================] - 0s 858us/step - loss: 0.5668 - accuracy: 0.7029\n",
      "Epoch 19/50\n",
      "8/8 [==============================] - 0s 857us/step - loss: 0.5590 - accuracy: 0.7029\n",
      "Epoch 20/50\n",
      "8/8 [==============================] - 0s 788us/step - loss: 0.5504 - accuracy: 0.7029\n",
      "Epoch 21/50\n",
      "8/8 [==============================] - 0s 864us/step - loss: 0.5426 - accuracy: 0.7029\n",
      "Epoch 22/50\n",
      "8/8 [==============================] - 0s 857us/step - loss: 0.5349 - accuracy: 0.7029\n",
      "Epoch 23/50\n",
      "8/8 [==============================] - 0s 851us/step - loss: 0.5275 - accuracy: 0.7029\n",
      "Epoch 24/50\n",
      "8/8 [==============================] - 0s 714us/step - loss: 0.5198 - accuracy: 0.7029\n",
      "Epoch 25/50\n",
      "8/8 [==============================] - 0s 1ms/step - loss: 0.5127 - accuracy: 0.7029\n",
      "Epoch 26/50\n",
      "8/8 [==============================] - 0s 931us/step - loss: 0.5062 - accuracy: 0.7029\n",
      "Epoch 27/50\n",
      "8/8 [==============================] - 0s 863us/step - loss: 0.4999 - accuracy: 0.7029\n",
      "Epoch 28/50\n",
      "8/8 [==============================] - 0s 799us/step - loss: 0.4940 - accuracy: 0.7029\n",
      "Epoch 29/50\n",
      "8/8 [==============================] - 0s 851us/step - loss: 0.4883 - accuracy: 0.7029\n",
      "Epoch 30/50\n",
      "8/8 [==============================] - 0s 715us/step - loss: 0.4826 - accuracy: 0.7029\n",
      "Epoch 31/50\n",
      "8/8 [==============================] - 0s 858us/step - loss: 0.4774 - accuracy: 0.7029\n",
      "Epoch 32/50\n",
      "8/8 [==============================] - 0s 931us/step - loss: 0.4726 - accuracy: 0.7029\n",
      "Epoch 33/50\n",
      "8/8 [==============================] - 0s 1ms/step - loss: 0.4680 - accuracy: 0.7029\n",
      "Epoch 34/50\n",
      "8/8 [==============================] - 0s 871us/step - loss: 0.4635 - accuracy: 0.7029\n",
      "Epoch 35/50\n",
      "8/8 [==============================] - 0s 787us/step - loss: 0.4593 - accuracy: 0.7029\n",
      "Epoch 36/50\n",
      "8/8 [==============================] - 0s 857us/step - loss: 0.4554 - accuracy: 0.7029\n",
      "Epoch 37/50\n",
      "8/8 [==============================] - 0s 788us/step - loss: 0.4514 - accuracy: 0.7029\n",
      "Epoch 38/50\n",
      "8/8 [==============================] - 0s 858us/step - loss: 0.4481 - accuracy: 0.7029\n",
      "Epoch 39/50\n",
      "8/8 [==============================] - 0s 860us/step - loss: 0.4446 - accuracy: 0.7029\n",
      "Epoch 40/50\n",
      "8/8 [==============================] - 0s 857us/step - loss: 0.4413 - accuracy: 0.7029\n",
      "Epoch 41/50\n",
      "8/8 [==============================] - 0s 857us/step - loss: 0.4380 - accuracy: 0.7029\n",
      "Epoch 42/50\n",
      "8/8 [==============================] - 0s 857us/step - loss: 0.4349 - accuracy: 0.7029\n",
      "Epoch 43/50\n",
      "8/8 [==============================] - 0s 864us/step - loss: 0.4317 - accuracy: 0.7029\n",
      "Epoch 44/50\n",
      "8/8 [==============================] - 0s 799us/step - loss: 0.4290 - accuracy: 0.7029\n",
      "Epoch 45/50\n",
      "8/8 [==============================] - 0s 788us/step - loss: 0.4260 - accuracy: 0.7029\n",
      "Epoch 46/50\n",
      "8/8 [==============================] - 0s 856us/step - loss: 0.4232 - accuracy: 0.7029\n",
      "Epoch 47/50\n",
      "8/8 [==============================] - 0s 714us/step - loss: 0.4203 - accuracy: 0.7029\n",
      "Epoch 48/50\n",
      "8/8 [==============================] - 0s 863us/step - loss: 0.4177 - accuracy: 0.7029\n",
      "Epoch 49/50\n",
      "8/8 [==============================] - 0s 830us/step - loss: 0.4151 - accuracy: 0.7029\n",
      "Epoch 50/50\n",
      "8/8 [==============================] - 0s 788us/step - loss: 0.4127 - accuracy: 0.7029\n"
     ]
    }
   ],
   "source": [
    "tf.random.set_seed(42)\n",
    "model_1 = tf.keras.Sequential([\n",
    "    tf.keras.layers.Dense(12, activation=tf.keras.activations.relu),\n",
    "    tf.keras.layers.Dense(4, activation=tf.keras.activations.relu),\n",
    "    tf.keras.layers.Dense(1, activation=tf.keras.activations.sigmoid)\n",
    "])\n",
    "model_1.compile(optimizer=tf.keras.optimizers.Adam(learning_rate=0.001),\n",
    "                loss=tf.keras.losses.binary_crossentropy,\n",
    "                metrics=['accuracy'])\n",
    "\n",
    "history = model_1.fit(X_train, y_train, epochs=50)"
   ]
  },
  {
   "cell_type": "code",
   "execution_count": 19,
   "id": "fc2ee19d-dabe-4740-ad00-8dee0df30af8",
   "metadata": {},
   "outputs": [
    {
     "name": "stdout",
     "output_type": "stream",
     "text": [
      "Epoch 1/20\n",
      "8/8 [==============================] - 0s 1ms/step - loss: 0.7389 - accuracy: 0.5230\n",
      "Epoch 2/20\n",
      "8/8 [==============================] - 0s 982us/step - loss: 0.6543 - accuracy: 0.7657\n",
      "Epoch 3/20\n",
      "8/8 [==============================] - 0s 873us/step - loss: 0.5907 - accuracy: 0.7657\n",
      "Epoch 4/20\n",
      "8/8 [==============================] - 0s 863us/step - loss: 0.4901 - accuracy: 0.7824\n",
      "Epoch 5/20\n",
      "8/8 [==============================] - 0s 910us/step - loss: 0.4069 - accuracy: 0.8201\n",
      "Epoch 6/20\n",
      "8/8 [==============================] - 0s 1ms/step - loss: 0.3483 - accuracy: 0.8326\n",
      "Epoch 7/20\n",
      "8/8 [==============================] - 0s 1ms/step - loss: 0.3050 - accuracy: 0.8619\n",
      "Epoch 8/20\n",
      "8/8 [==============================] - 0s 946us/step - loss: 0.2799 - accuracy: 0.8787\n",
      "Epoch 9/20\n",
      "8/8 [==============================] - 0s 1ms/step - loss: 0.2591 - accuracy: 0.8787\n",
      "Epoch 10/20\n",
      "8/8 [==============================] - 0s 1ms/step - loss: 0.2444 - accuracy: 0.8870\n",
      "Epoch 11/20\n",
      "8/8 [==============================] - 0s 1ms/step - loss: 0.2280 - accuracy: 0.8912\n",
      "Epoch 12/20\n",
      "8/8 [==============================] - 0s 923us/step - loss: 0.2154 - accuracy: 0.8828\n",
      "Epoch 13/20\n",
      "8/8 [==============================] - 0s 930us/step - loss: 0.2031 - accuracy: 0.8912\n",
      "Epoch 14/20\n",
      "8/8 [==============================] - 0s 1ms/step - loss: 0.1930 - accuracy: 0.9079\n",
      "Epoch 15/20\n",
      "8/8 [==============================] - 0s 1000us/step - loss: 0.1834 - accuracy: 0.9079\n",
      "Epoch 16/20\n",
      "8/8 [==============================] - 0s 1000us/step - loss: 0.1772 - accuracy: 0.9079\n",
      "Epoch 17/20\n",
      "8/8 [==============================] - 0s 1000us/step - loss: 0.1642 - accuracy: 0.9205\n",
      "Epoch 18/20\n",
      "8/8 [==============================] - 0s 1ms/step - loss: 0.1802 - accuracy: 0.9247\n",
      "Epoch 19/20\n",
      "8/8 [==============================] - 0s 1ms/step - loss: 0.1442 - accuracy: 0.9331\n",
      "Epoch 20/20\n",
      "8/8 [==============================] - 0s 930us/step - loss: 0.1300 - accuracy: 0.9498\n"
     ]
    }
   ],
   "source": [
    "tf.random.set_seed(42)\n",
    "model_2 = tf.keras.Sequential([\n",
    "    tf.keras.layers.Dense(16, activation=tf.keras.activations.relu),\n",
    "    tf.keras.layers.Dense(8, activation=tf.keras.activations.relu),\n",
    "    tf.keras.layers.Dense(4, activation=tf.keras.activations.relu),\n",
    "    tf.keras.layers.Dense(1, activation=tf.keras.activations.sigmoid)\n",
    "])\n",
    "model_2.compile(optimizer=tf.keras.optimizers.Adam(learning_rate=0.01),\n",
    "                loss=tf.keras.losses.binary_crossentropy,\n",
    "                metrics=['accuracy'])\n",
    "\n",
    "history = model_2.fit(X_train, y_train, epochs=20)"
   ]
  },
  {
   "cell_type": "code",
   "execution_count": 20,
   "id": "2a218fbe-e0ce-46ef-bb02-172d2ce425b0",
   "metadata": {},
   "outputs": [
    {
     "name": "stdout",
     "output_type": "stream",
     "text": [
      "2/2 [==============================] - 0s 2ms/step - loss: 1.4506 - accuracy: 0.7500\n",
      "Model loss on the test set: 1.4505971670150757\n",
      "Model accuracy on the test set: 75.00%\n"
     ]
    }
   ],
   "source": [
    "loss, accuracy = model_2.evaluate(X_test, y_test)\n",
    "print(f\"Model loss on the test set: {loss}\")\n",
    "print(f\"Model accuracy on the test set: {100*accuracy:.2f}%\")"
   ]
  },
  {
   "cell_type": "code",
   "execution_count": 21,
   "id": "500c5464-bc12-4cf0-ae86-bf1b660dc1b3",
   "metadata": {},
   "outputs": [
    {
     "data": {
      "text/plain": [
       "Text(0.5, 1.0, 'Model_2 training curves')"
      ]
     },
     "execution_count": 21,
     "metadata": {},
     "output_type": "execute_result"
    },
    {
     "data": {
      "image/png": "[encoded data removed]",
      "text/plain": [
       "<Figure size 640x480 with 1 Axes>"
      ]
     },
     "metadata": {},
     "output_type": "display_data"
    }
   ],
   "source": [
    "# Plot the loss curves\n",
    "pd.DataFrame(history.history).plot()\n",
    "plt.title(\"Model_2 training curves\")\n",
    "# history.history"
   ]
  },
  {
   "cell_type": "code",
   "execution_count": 22,
   "id": "8770f586-c00d-442c-9cd9-b9586b779c69",
   "metadata": {},
   "outputs": [
    {
     "name": "stdout",
     "output_type": "stream",
     "text": [
      "Epoch 1/20\n",
      "8/8 [==============================] - 0s 1ms/step - loss: 0.6166 - accuracy: 0.7071\n",
      "Epoch 2/20\n",
      "8/8 [==============================] - 0s 1ms/step - loss: 0.5336 - accuracy: 0.7029\n",
      "Epoch 3/20\n",
      "8/8 [==============================] - 0s 787us/step - loss: 0.4809 - accuracy: 0.7029\n",
      "Epoch 4/20\n",
      "8/8 [==============================] - 0s 930us/step - loss: 0.4524 - accuracy: 0.7029\n",
      "Epoch 5/20\n",
      "8/8 [==============================] - 0s 857us/step - loss: 0.4277 - accuracy: 0.7029\n",
      "Epoch 6/20\n",
      "8/8 [==============================] - 0s 857us/step - loss: 0.4026 - accuracy: 0.7280\n",
      "Epoch 7/20\n",
      "8/8 [==============================] - 0s 857us/step - loss: 0.3853 - accuracy: 0.7866\n",
      "Epoch 8/20\n",
      "8/8 [==============================] - 0s 1ms/step - loss: 0.3712 - accuracy: 0.8075\n",
      "Epoch 9/20\n",
      "8/8 [==============================] - 0s 1ms/step - loss: 0.3598 - accuracy: 0.8326\n",
      "Epoch 10/20\n",
      "8/8 [==============================] - 0s 930us/step - loss: 0.3452 - accuracy: 0.8577\n",
      "Epoch 11/20\n",
      "8/8 [==============================] - 0s 1ms/step - loss: 0.3351 - accuracy: 0.8577\n",
      "Epoch 12/20\n",
      "8/8 [==============================] - 0s 867us/step - loss: 0.3227 - accuracy: 0.8661\n",
      "Epoch 13/20\n",
      "8/8 [==============================] - 0s 883us/step - loss: 0.3127 - accuracy: 0.8787\n",
      "Epoch 14/20\n",
      "8/8 [==============================] - 0s 857us/step - loss: 0.3041 - accuracy: 0.8745\n",
      "Epoch 15/20\n",
      "8/8 [==============================] - 0s 1ms/step - loss: 0.2937 - accuracy: 0.8703\n",
      "Epoch 16/20\n",
      "8/8 [==============================] - 0s 857us/step - loss: 0.2861 - accuracy: 0.8703\n",
      "Epoch 17/20\n",
      "8/8 [==============================] - 0s 1000us/step - loss: 0.2826 - accuracy: 0.8787\n",
      "Epoch 18/20\n",
      "8/8 [==============================] - 0s 857us/step - loss: 0.2784 - accuracy: 0.8661\n",
      "Epoch 19/20\n",
      "8/8 [==============================] - 0s 1ms/step - loss: 0.2720 - accuracy: 0.8787\n",
      "Epoch 20/20\n",
      "8/8 [==============================] - 0s 930us/step - loss: 0.2639 - accuracy: 0.8703\n"
     ]
    }
   ],
   "source": [
    "tf.random.set_seed(42)\n",
    "model_3 = tf.keras.Sequential([\n",
    "    tf.keras.layers.Dense(8, activation=tf.keras.activations.relu),\n",
    "    tf.keras.layers.Dense(4, activation=tf.keras.activations.relu),\n",
    "    tf.keras.layers.Dense(1, activation=tf.keras.activations.sigmoid)\n",
    "])\n",
    "model_3.compile(optimizer=tf.keras.optimizers.Adam(learning_rate=0.01),\n",
    "                loss=tf.keras.losses.binary_crossentropy,\n",
    "                metrics=['accuracy'])\n",
    "\n",
    "history = model_3.fit(X_train, y_train, epochs=20)"
   ]
  },
  {
   "cell_type": "code",
   "execution_count": 23,
   "id": "e221d86d-b6eb-4955-b478-4461151218f5",
   "metadata": {},
   "outputs": [
    {
     "name": "stdout",
     "output_type": "stream",
     "text": [
      "2/2 [==============================] - 0s 3ms/step - loss: 1.4506 - accuracy: 0.7500\n"
     ]
    },
    {
     "data": {
      "text/plain": [
       "[1.4505971670150757, 0.75]"
      ]
     },
     "execution_count": 23,
     "metadata": {},
     "output_type": "execute_result"
    }
   ],
   "source": [
    "model_2.evaluate(X_test, y_test)"
   ]
  },
  {
   "cell_type": "code",
   "execution_count": null,
   "id": "78771247-9eef-42c4-bb01-e54f96c25845",
   "metadata": {},
   "outputs": [],
   "source": []
  }
 ],
 "metadata": {
  "kernelspec": {
   "display_name": "Python 3 (ipykernel)",
   "language": "python",
   "name": "python3"
  },
  "language_info": {
   "codemirror_mode": {
    "name": "ipython",
    "version": 3
   },
   "file_extension": ".py",
   "mimetype": "text/x-python",
   "name": "python",
   "nbconvert_exporter": "python",
   "pygments_lexer": "ipython3",
   "version": "3.11.5"
  }
 },
 "nbformat": 4,
 "nbformat_minor": 5
}
